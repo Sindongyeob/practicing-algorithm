{
  "nbformat": 4,
  "nbformat_minor": 0,
  "metadata": {
    "colab": {
      "provenance": [],
      "authorship_tag": "ABX9TyP3BwqHgqc/PFQ/BQ1Ivo9c",
      "include_colab_link": true
    },
    "kernelspec": {
      "name": "python3",
      "display_name": "Python 3"
    },
    "language_info": {
      "name": "python"
    }
  },
  "cells": [
    {
      "cell_type": "markdown",
      "metadata": {
        "id": "view-in-github",
        "colab_type": "text"
      },
      "source": [
        "<a href=\"https://colab.research.google.com/github/Sindongyeob/practicing-algorithm/blob/main/replacement_2343035.ipynb\" target=\"_parent\"><img src=\"https://colab.research.google.com/assets/colab-badge.svg\" alt=\"Open In Colab\"/></a>"
      ]
    },
    {
      "cell_type": "code",
      "source": [
        "def replacement_selection(input):\n",
        "    buffer_size = 5\n",
        "    try:\n",
        "        with open(input, 'r') as infile:\n",
        "            cases = int(infile.readline().strip())  # 케이스 개수\n",
        "            with open('/content/replacement_output.txt', 'w') as f:  # 파일을 여기서 열기\n",
        "                for a in range(cases):\n",
        "                    recode_num = int(infile.readline().strip())  # 읽을 레코드 갯수\n",
        "                    recodes = list(map(int, infile.readline().strip().split()))  # 레코드 리스트\n",
        "                    recodes_len = len(recodes) - 1\n",
        "                    buffer = []\n",
        "                    frozen = []  # 동결 확인 리스트\n",
        "                    runs = [[]]  # run 내용 2차원 배열\n",
        "                    run_num = 0  # run 갯수 구분을 위한 인덱스\n",
        "                    recode_index = buffer_size-1\n",
        "\n",
        "                    # 처음 버퍼 채우기\n",
        "                    buffer = recodes[:buffer_size]\n",
        "\n",
        "                    while buffer:  # buffer가 비워질 때까지\n",
        "                        # 가장 작은 값 찾기\n",
        "                        small = 101\n",
        "                        min_index = -1\n",
        "                        for i in range(len(buffer)):\n",
        "                            if buffer[i] not in frozen and buffer[i] < small:\n",
        "                                small = buffer[i]\n",
        "                                min_index = buffer.index(small)\n",
        "\n",
        "                        if min_index != -1:\n",
        "                            runs[run_num].append(buffer[min_index])  # buffer에서 가장 작은 값을 run에 담기\n",
        "                            buffer.pop(min_index)  # run에 넣은 값을 buffer에서 제거\n",
        "\n",
        "                        # recode_index가 레코드 길이보다 길지 않게 방지\n",
        "                        if recode_index < recodes_len:\n",
        "                            recode_index += 1\n",
        "                            buffer.append(recodes[recode_index])\n",
        "                            if recodes[recode_index] < small:  # 방금 읽어온 값이 방금 run에 넣은 값보다 작을 때\n",
        "                                frozen.append(recodes[recode_index])  # 동결\n",
        "\n",
        "                        if len(frozen) == len(buffer):  # 모두 동결되었을 때\n",
        "                            frozen.clear()  # 동결 해제\n",
        "                            if(len(buffer)>0):\n",
        "                              runs.append([])  # 다음 run 생성\n",
        "                              run_num += 1\n",
        "                    # 각 케이스에 대한 run 파일 작성\n",
        "                    f.write(f\"{len(runs)}\\n\")  # runs 개수\n",
        "                    for run in runs:\n",
        "                        f.write(' '.join(map(str, run)) + '\\n')\n",
        "\n",
        "    except Exception as e:\n",
        "        print(f\"An error occurred: {e}\")\n",
        "\n",
        "replacement_selection('replacement_input.txt')"
      ],
      "metadata": {
        "id": "NQEfgn25mTks"
      },
      "execution_count": null,
      "outputs": []
    }
  ]
}